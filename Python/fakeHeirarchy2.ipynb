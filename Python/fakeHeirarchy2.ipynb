{
 "cells": [
  {
   "cell_type": "markdown",
   "metadata": {},
   "source": [
    "# Encapsulation"
   ]
  },
  {
   "cell_type": "markdown",
   "metadata": {},
   "source": [
    "OK so what do we want our __MODULE__ and its classes to be able to do:\n",
    "    - INTIIALISE BASED ON A NUMBER OF PARENTS ALONE\n",
    "    - GENERATE CHILDREN BASED ON AVERAGE CHILDREN PER PARENT, WITH VARIABLE STATS METHODS\n",
    "    - APPLY THE ABOVE ITERATIVELY\n",
    "    - GENERATE CORRELATED DATA FROM PRE-EXISTING DATA\n",
    "    - CLUSTERING DATASETS"
   ]
  },
  {
   "cell_type": "code",
   "execution_count": 1,
   "metadata": {},
   "outputs": [],
   "source": [
    "from abc import ABC,abstractmethod # for abstract classes and methods\n",
    "import numpy as np # numpy arrays are in matrices are like in matlab\n",
    "import pandas as pd # pandas dataframes like Tables in Matlab\n",
    "#import scipy.stats as stats # need this for distributions\n",
    "import matplotlib.pyplot as plt #for graphs \n",
    "import math\n",
    "import random\n",
    "\n",
    "random.seed( 10 ) # this should be a property of the class, no?"
   ]
  },
  {
   "cell_type": "code",
   "execution_count": 2,
   "metadata": {},
   "outputs": [
    {
     "name": "stdout",
     "output_type": "stream",
     "text": [
      "<built-in method random of Random object at 0x5594c14d2a28>\n"
     ]
    }
   ],
   "source": [
    "print(random.random) # so its repeatable."
   ]
  },
  {
   "cell_type": "code",
   "execution_count": 3,
   "metadata": {},
   "outputs": [],
   "source": [
    "#nest_counter = 0\n",
    "class Hpattern:\n",
    "    def __init__(self,mean_no_of_children,dist):\n",
    "        self.Mean_no_of_children = mean_no_of_children\n",
    "        self.Dist = dist\n",
    "    \n",
    "class fakeHeirarchy_abstract(ABC):\n",
    "\n",
    "    def __init__(self, no_of_topLevelParents,mean_no_of_children, dist):\n",
    "        self.No_of_topLevelParents = no_of_topLevelParents #create top level parents\n",
    "        self.Mean_no_of_children = mean_no_of_children\n",
    "        # default seed value. User can overwrite but don't think matters at creation sufficiently\n",
    "        self._seed = 123\n",
    "        random.seed(self._seed) # get and set required?\n",
    "    def generateChildren(self,Parents,mean_no_of_children,dist):\n",
    "        pass # one level a time\n",
    "    def heirarchy(self,toplevelParents,levels,Hpattern):\n",
    "        pass #check levels <= Hpattern, issue a warn if so. Init Hpattern if not entered\n",
    "    \n",
    "    "
   ]
  },
  {
   "cell_type": "code",
   "execution_count": 4,
   "metadata": {},
   "outputs": [],
   "source": [
    "class fakeHeirarchy_concrete(fakeHeirarchy_abstract):\n",
    "    \n",
    "    def __init__(self, no_of_topLevelParents, mean_no_of_children=3,dist='exp'):\n",
    "        \n",
    "        fakeHeirarchy_abstract.__init__(self, no_of_topLevelParents,mean_no_of_children,dist)\n",
    "        #super().__init__(self, no_of_topLevelParents)\n",
    "        \n",
    "        \n",
    "        def extractAfter(input,amount): #like the matlab equivalent or =RIGHT excel\n",
    "            return input[-amount:] #neg index means start at the end. Colon means go to the end.\n",
    "\n",
    "        order = np.ceil(math.log(no_of_topLevelParents,10)).astype(int)\n",
    "        datum = np.power(10,order+1)\n",
    "        #ensure num is atleast 10x largest num simon needs (hence order check)\n",
    "        a = datum+np.arange(1,no_of_topLevelParents+1) # if they index at 1\n",
    "        b = 'x'*no_of_topLevelParents\n",
    "\n",
    "        concat_func = lambda x,y: x + \"|\" + extractAfter(str(y),order+1) # piped as Simon likes em easily retrived this way\n",
    "\n",
    "        L = list(map(concat_func,b,a)) # list the map function\n",
    "                \n",
    "        if dist == 'exp':\n",
    "            no_of_kids = np.floor(np.random.exponential(mean_no_of_children,no_of_topLevelParents))    \n",
    "        elif dist == 'lognormal':\n",
    "            no_of_kids = np.floor(np.random.lognormal(mean_no_of_children, no_of_topLevelParents)) \n",
    "        else:\n",
    "            no_of_kids = np.floor(np.random.uniform(mean_no_of_children,no_of_topLevelParents))\n",
    "        \n",
    "        no_of_kids = no_of_kids.astype(int)\n",
    "        #data =  pd.DataFrame(data=[L,no_of_kids],columns=list([\"TopLevelParents\",\"AboutToSpawn...\"]))\n",
    "        data =  pd.DataFrame(no_of_kids,L,columns=list([\"AboutToSpawn...\"]))#improve as per above\n",
    "        self.DefaultParents = L\n",
    "        self.Top_Level_Info = data\n",
    "        self.Top_Level_Primitives = data[data['AboutToSpawn...']==0] #capture who doesn't have children at each heiracy level \n",
    "        self._nest_counter = 0\n",
    "        #self.defaultkids?\n",
    "    def generateChildren(self,parents='default',exact_kids=_,mean_no_of_children=3,dist='exp'):\n",
    "        \n",
    "        if parents=='default':\n",
    "            L = self.DefaultParents\n",
    "        else:\n",
    "            L = parents\n",
    "        no_of_parents = len(L)\n",
    "        if exact_kids!=_ and len(exact_kids)==len(L):\n",
    "            no_of_kids = exact_kids\n",
    "            print('Parents & Children match successfully.')\n",
    "        elif exact_kids!=_:\n",
    "            #print('Parents & Children do not match in length.')\n",
    "            raise Exception(\"Parents & Children do not match in length.\")\n",
    "        elif exact_kids==_ and self._nest_counter ==0:\n",
    "            exact_kids = self.Top_Level_Info['AboutToSpawn...']\n",
    "       \n",
    "        \n",
    "        \n",
    "    \n",
    "        no_of_kids = np.floor(np.random.exponential(mean_no_of_children,no_of_parents))\n",
    "        no_of_kids = no_of_kids.astype(int)\n",
    "        \n",
    "        newParents = np.repeat(L,no_of_kids) #repeat the parents to the the new size to use in a table as ref for children\n",
    "        data =  pd.DataFrame(no_of_kids,L,columns=list([\"AboutToSpawn...\"]))\n",
    "        \n",
    "        idx = np.arange(no_of_parents) + 1# if they index at 1\n",
    "        no_of_siblings = np.repeat(no_of_kids-1,no_of_kids)\n",
    "        no_of_siblings = no_of_siblings[no_of_siblings>-1]\n",
    "        uidx = np.unique(newParents,return_index=True)\n",
    "        spawners = no_of_kids[no_of_kids>0]\n",
    "        L_spawners = data[no_of_kids>0]\n",
    "\n",
    "        u_precede = spawners-1 # we do this to ensure counting up sequentially per parent,starting at 1 each time\n",
    "        u_precede = np.roll(u_precede,1)\n",
    "        u_precede[0]=0 # special cases. this one won't apply to uidx either (first element)\n",
    "        u_precede[-1]=0\n",
    "        uidx=uidx[1].astype(int) # just want the indices \n",
    "        \n",
    "        create_suffix = np.ones(len(newParents))\n",
    "        #np.pop(u_precede) #listsonly\n",
    "        #np.pop(uidx)\n",
    "        def arrayPop(y):\n",
    "           #last, y = y[-1], y[:-1] #this would be full opo functionality\n",
    "           #return last,y\n",
    "            y =  y[1:] #technically reverse pop. ignore popped val (first not last)\n",
    "            return y\n",
    "        u_precede = arrayPop(u_precede)\n",
    "        uidx = arrayPop(np.transpose(uidx))\n",
    "\n",
    "        create_suffix[uidx] = -(u_precede)\n",
    "        \n",
    "        create_suffix = np.cumsum(create_suffix) #so it should start counting at 1 each Parent\n",
    "        \n",
    "\n",
    "        concat_func = lambda x,y: x + \"|\" + str(y)\n",
    "\n",
    "        children = list(map(concat_func,newParents,create_suffix)) # if we used 'idx' instead of 'create_suffix' it would count 1:end without starting again at 1 for each parent\n",
    "        self._nest_counter = self._nest_counter+1\n",
    "        dataout=[newParents,no_of_siblings,children]\n",
    "        dataout=np.transpose(dataout)\n",
    "        a = ['newParents','no_of_sibling','children']\n",
    "        b =str(self._nest_counter)*len(a)\n",
    "        concat_func = lambda x,y: x + \"|\" + (y) # piped as Simon likes em easily retrived this way\n",
    "\n",
    "        headings = list(map(concat_func,b,a)) # list the map function\n",
    "        self.DefaultParents = children\n",
    "        self.output = pd.DataFrame(data=dataout,columns=headings)\n",
    "        \n",
    "    def heirarchy(self,toplevelParents,levels,Hpattern):\n",
    "        #check levels <= Hpattern, issue a warn if so. Init Hpattern if not entered\n",
    "        pass\n",
    "        #loop through heirarchy - for i = 1:10"
   ]
  },
  {
   "cell_type": "markdown",
   "metadata": {},
   "source": [
    "# Ok, lets now quickly test our class"
   ]
  },
  {
   "cell_type": "markdown",
   "metadata": {},
   "source": [
    "These commands force package to reimport if we've updated it. Make more sense when we run tests in separate scripts\n",
    "https://medium.com/@chrieke/jupyter-tips-and-tricks-994fdddb2057"
   ]
  },
  {
   "cell_type": "code",
   "execution_count": 5,
   "metadata": {},
   "outputs": [],
   "source": [
    "%load_ext autoreload\n",
    "%autoreload 2"
   ]
  },
  {
   "cell_type": "code",
   "execution_count": 6,
   "metadata": {},
   "outputs": [
    {
     "name": "stdout",
     "output_type": "stream",
     "text": [
      "      AboutToSpawn...\n",
      "x|01                0\n",
      "x|02                4\n",
      "x|03                5\n",
      "x|04                0\n",
      "x|05                0\n",
      "x|06                0\n",
      "x|07                1\n",
      "x|08                9\n",
      "x|09                3\n",
      "x|10               13\n",
      "      AboutToSpawn...\n",
      "x|01                0\n",
      "x|04                0\n",
      "x|05                0\n",
      "x|06                0\n"
     ]
    }
   ],
   "source": [
    "obj = fakeHeirarchy_concrete(10)\n",
    "print(obj.Top_Level_Info)\n",
    "print(obj.Top_Level_Primitives)\n"
   ]
  },
  {
   "cell_type": "code",
   "execution_count": 7,
   "metadata": {},
   "outputs": [
    {
     "name": "stdout",
     "output_type": "stream",
     "text": [
      "True\n",
      "True\n"
     ]
    }
   ],
   "source": [
    "# Driver code \n",
    "print( issubclass(fakeHeirarchy_concrete, fakeHeirarchy_abstract)) \n",
    "print( isinstance(obj, fakeHeirarchy_abstract)) "
   ]
  },
  {
   "cell_type": "code",
   "execution_count": 8,
   "metadata": {},
   "outputs": [
    {
     "name": "stdout",
     "output_type": "stream",
     "text": [
      "   1|newParents 1|no_of_sibling 1|children\n",
      "0          x|01               0   x|01|1.0\n",
      "1          x|02               1   x|02|1.0\n",
      "2          x|02               1   x|02|2.0\n",
      "3          x|04               5   x|04|1.0\n",
      "4          x|04               5   x|04|2.0\n",
      "5          x|04               5   x|04|3.0\n",
      "6          x|04               5   x|04|4.0\n",
      "7          x|04               5   x|04|5.0\n",
      "8          x|04               5   x|04|6.0\n",
      "9          x|06               2   x|06|1.0\n",
      "10         x|06               2   x|06|2.0\n",
      "11         x|06               2   x|06|3.0\n",
      "12         x|07               3   x|07|1.0\n",
      "13         x|07               3   x|07|2.0\n",
      "14         x|07               3   x|07|3.0\n",
      "15         x|07               3   x|07|4.0\n",
      "16         x|08               6   x|08|1.0\n",
      "17         x|08               6   x|08|2.0\n",
      "18         x|08               6   x|08|3.0\n",
      "19         x|08               6   x|08|4.0\n",
      "20         x|08               6   x|08|5.0\n",
      "21         x|08               6   x|08|6.0\n",
      "22         x|08               6   x|08|7.0\n",
      "23         x|09               2   x|09|7.0\n",
      "24         x|09               2   x|09|8.0\n",
      "25         x|09               2   x|09|9.0\n"
     ]
    }
   ],
   "source": [
    "obj.generateChildren()\n",
    "print(obj.output)"
   ]
  },
  {
   "cell_type": "markdown",
   "metadata": {},
   "source": [
    "Lets go again"
   ]
  },
  {
   "cell_type": "code",
   "execution_count": 9,
   "metadata": {},
   "outputs": [
    {
     "name": "stdout",
     "output_type": "stream",
     "text": [
      "   2|newParents 2|no_of_sibling     2|children\n",
      "0      x|01|1.0               3   x|01|1.0|1.0\n",
      "1      x|01|1.0               3   x|01|1.0|2.0\n",
      "2      x|01|1.0               3   x|01|1.0|3.0\n",
      "3      x|01|1.0               3   x|01|1.0|4.0\n",
      "4      x|02|2.0               6   x|02|2.0|1.0\n",
      "..          ...             ...            ...\n",
      "70     x|09|7.0              13  x|09|7.0|14.0\n",
      "71     x|09|8.0               3  x|09|8.0|14.0\n",
      "72     x|09|8.0               3  x|09|8.0|15.0\n",
      "73     x|09|8.0               3  x|09|8.0|16.0\n",
      "74     x|09|8.0               3  x|09|8.0|17.0\n",
      "\n",
      "[75 rows x 3 columns]\n"
     ]
    }
   ],
   "source": [
    "obj.generateChildren()\n",
    "print(obj.output)"
   ]
  },
  {
   "cell_type": "code",
   "execution_count": null,
   "metadata": {},
   "outputs": [],
   "source": []
  },
  {
   "cell_type": "code",
   "execution_count": 10,
   "metadata": {},
   "outputs": [
    {
     "name": "stderr",
     "output_type": "stream",
     "text": [
      "ERROR:root:No traceback has been produced, nothing to debug.\n"
     ]
    }
   ],
   "source": [
    "%debug "
   ]
  },
  {
   "cell_type": "code",
   "execution_count": null,
   "metadata": {},
   "outputs": [],
   "source": []
  }
 ],
 "metadata": {
  "kernelspec": {
   "display_name": "Python 3",
   "language": "python",
   "name": "python3"
  },
  "language_info": {
   "codemirror_mode": {
    "name": "ipython",
    "version": 3
   },
   "file_extension": ".py",
   "mimetype": "text/x-python",
   "name": "python",
   "nbconvert_exporter": "python",
   "pygments_lexer": "ipython3",
   "version": "3.6.3"
  }
 },
 "nbformat": 4,
 "nbformat_minor": 2
}
